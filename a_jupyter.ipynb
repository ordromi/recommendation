{
 "cells": [
  {
   "cell_type": "code",
   "execution_count": null,
   "metadata": {},
   "outputs": [],
   "source": [
    "import numpy as np\n",
    "from numpy import genfromtxt\n",
    "\n",
    "np.set_printoptions(suppress=True)\n",
    "np.random.seed(0)"
   ]
  },
  {
   "cell_type": "code",
   "execution_count": 12,
   "metadata": {},
   "outputs": [],
   "source": [
    "k = 2\n",
    "alpha = 0.01\n",
    "lamb = 0.1\n",
    "iterations = 20"
   ]
  },
  {
   "cell_type": "code",
   "execution_count": 13,
   "metadata": {},
   "outputs": [],
   "source": [
    "#import data\n",
    "train_set = genfromtxt('Train.csv', delimiter=',')\n",
    "train_set = train_set.astype(int)\n",
    "train_set = np.delete(train_set, (0), axis=0)"
   ]
  },
  {
   "cell_type": "code",
   "execution_count": null,
   "metadata": {},
   "outputs": [],
   "source": []
  },
  {
   "cell_type": "code",
   "execution_count": 14,
   "metadata": {},
   "outputs": [],
   "source": [
    "#import data\n",
    "users_table = genfromtxt('Users Demographics.csv', delimiter=',')\n",
    "users_table = np.delete(users_table, (0), axis=0)\n",
    "users = users_table[:,0]\n",
    "movies_table = genfromtxt('Movies Metadata.csv', delimiter=',')\n",
    "movies_table = np.delete(movies_table, (0), axis=0)\n",
    "items = movies_table[:,0]"
   ]
  },
  {
   "cell_type": "code",
   "execution_count": 15,
   "metadata": {},
   "outputs": [],
   "source": [
    "#initialize the biases\n",
    "b_u = np.zeros(users.size) #user bias\n",
    "b_i = np.zeros(items.size) #item bias\n",
    "b = np.mean(train_set[:,2]) #global bias"
   ]
  },
  {
   "cell_type": "code",
   "execution_count": 16,
   "metadata": {},
   "outputs": [],
   "source": [
    "def create_P_Q(k):\n",
    "    #initialize user(P) and item(Q) feature matrix\n",
    "    P = np.array(np.random.uniform(0, 1, users.shape[0] * k).reshape(users.shape[0], k))\n",
    "    Q = np.array(np.random.uniform(0, 1, items.shape[0] * k).reshape(k, items.shape[0]))\n",
    "    return P,Q"
   ]
  },
  {
   "cell_type": "code",
   "execution_count": 17,
   "metadata": {},
   "outputs": [],
   "source": [
    "def train(train_set,P,Q,alpha,lamb,iterations):\n",
    "    for i in range(iterations) :\n",
    "        P,Q,mae = SGD(train_set, P, Q, alpha, lamb)\n",
    "        print(f\"iteration {i} : error is: {mae}\")\n",
    "        alpha = 0.9*alpha #update alpha\n",
    "        \n",
    "    return P,Q\n",
    "    "
   ]
  },
  {
   "cell_type": "code",
   "execution_count": 18,
   "metadata": {},
   "outputs": [],
   "source": [
    "def SGD(train_set, P, Q, alpha, lamb):\n",
    "    #stochastic gradient descent\n",
    "    total_error = 0\n",
    "    for i,j,r in train_set:\n",
    "        prediction = b + b_u[i-1] + b_i[j-1] + P[i-1,:].dot(Q[:,j-1])\n",
    "        error = r - prediction\n",
    "        \n",
    "        #update biases\n",
    "        b_u[i-1] = b_u[i-1] + alpha*(error-lamb*b_u[i-1])\n",
    "        b_i[j-1] = b_i[j-1] + alpha*(error-lamb*b_i[j-1])\n",
    "        \n",
    "        #update matrrix\n",
    "        P[i-1,:] = P[i-1,:] + alpha*(error*Q[:,j-1]-lamb*P[i-1,:])\n",
    "        Q[:,j-1] = Q[:,j-1] + alpha*(error*P[i-1,:]-lamb*Q[:,j-1])\n",
    "        \n",
    "        total_error = total_error + abs(error)\n",
    "        \n",
    "    mae = total_error/train_set.shape[0] \n",
    "    return P,Q,mae\n"
   ]
  },
  {
   "cell_type": "code",
   "execution_count": 19,
   "metadata": {},
   "outputs": [],
   "source": [
    "#def test(P,Q,validation_set):\n",
    "#    יש לעבור שורה שורה בקובץ של הולידשיין ולבדוק מה הטעות בין הערך שנמצא שם לערך החזוי.\n",
    "#    ולחשב את כל הטעויות האפשריות לפי מה שביקשו בתרגיל\n",
    "    "
   ]
  },
  {
   "cell_type": "code",
   "execution_count": 20,
   "metadata": {},
   "outputs": [
    {
     "name": "stdout",
     "output_type": "stream",
     "text": [
      "iteration 0 : error is: 0.8678901215490492\n",
      "iteration 1 : error is: 0.794195341316668\n",
      "iteration 2 : error is: 0.770799801152177\n",
      "iteration 3 : error is: 0.7585947445829343\n",
      "iteration 4 : error is: 0.7510659074128101\n"
     ]
    },
    {
     "data": {
      "text/plain": [
       "(array([[ 0.28055961,  0.43381189],\n",
       "        [ 0.43064592,  0.41820853],\n",
       "        [ 0.43385675,  0.60070515],\n",
       "        ...,\n",
       "        [ 0.20412663,  0.11173261],\n",
       "        [ 0.49390175, -0.10445662],\n",
       "        [ 0.87417643,  0.85525087]]),\n",
       " array([[-0.00534643,  0.5271844 ,  0.28400577, ...,  0.64124793,\n",
       "          0.37036376,  0.26510716],\n",
       "        [-0.12190126,  0.3847558 ,  0.48642187, ...,  0.3868441 ,\n",
       "          0.7029768 ,  0.31886146]]))"
      ]
     },
     "execution_count": 20,
     "metadata": {},
     "output_type": "execute_result"
    }
   ],
   "source": [
    "#main\n",
    "P,Q=create_P_Q(k)\n",
    "train(train_set,P,Q,alpha,lamb,iterations)"
   ]
  },
  {
   "cell_type": "code",
   "execution_count": null,
   "metadata": {},
   "outputs": [],
   "source": [
    "def rmse(predictions, targets):\n",
    "    return np.sqrt(((predictions - targets) ** 2).mean())\n",
    "#rmse_val = rmse(np.array(d), np.array(p))"
   ]
  },
  {
   "cell_type": "code",
   "execution_count": null,
   "metadata": {},
   "outputs": [],
   "source": [
    "def r_squre(predictions, targets):\n",
    "    return "
   ]
  },
  {
   "cell_type": "code",
   "execution_count": null,
   "metadata": {},
   "outputs": [],
   "source": []
  },
  {
   "cell_type": "code",
   "execution_count": null,
   "metadata": {},
   "outputs": [],
   "source": []
  },
  {
   "cell_type": "code",
   "execution_count": null,
   "metadata": {},
   "outputs": [],
   "source": []
  },
  {
   "cell_type": "code",
   "execution_count": null,
   "metadata": {},
   "outputs": [],
   "source": []
  },
  {
   "cell_type": "code",
   "execution_count": null,
   "metadata": {},
   "outputs": [],
   "source": []
  },
  {
   "cell_type": "code",
   "execution_count": null,
   "metadata": {},
   "outputs": [],
   "source": []
  },
  {
   "cell_type": "code",
   "execution_count": null,
   "metadata": {},
   "outputs": [],
   "source": []
  },
  {
   "cell_type": "code",
   "execution_count": null,
   "metadata": {},
   "outputs": [],
   "source": []
  }
 ],
 "metadata": {
  "kernelspec": {
   "display_name": "Python 3",
   "language": "python",
   "name": "python3"
  },
  "language_info": {
   "codemirror_mode": {
    "name": "ipython",
    "version": 3
   },
   "file_extension": ".py",
   "mimetype": "text/x-python",
   "name": "python",
   "nbconvert_exporter": "python",
   "pygments_lexer": "ipython3",
   "version": "3.7.0"
  }
 },
 "nbformat": 4,
 "nbformat_minor": 1
}
